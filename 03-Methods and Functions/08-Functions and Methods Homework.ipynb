{
 "cells": [
  {
   "cell_type": "markdown",
   "metadata": {},
   "source": [
    "___\n",
    "\n",
    "<a href='https://www.udemy.com/user/joseportilla/'><img src='../Pierian_Data_Logo.png'/></a>\n",
    "___\n",
    "<center><em>Content Copyright by Pierian Data</em></center>"
   ]
  },
  {
   "cell_type": "markdown",
   "metadata": {},
   "source": [
    "# Functions and Methods Homework \n",
    "\n",
    "Complete the following questions:\n",
    "____\n",
    "**Write a function that computes the volume of a sphere given its radius.**\n",
    "<p>The volume of a sphere is given as $$\\frac{4}{3} πr^3$$</p>"
   ]
  },
  {
   "cell_type": "code",
   "execution_count": 377,
   "metadata": {
    "collapsed": true
   },
   "outputs": [],
   "source": [
    "def vol(rad):\n",
    "    return ((4 / 3) * 3.14 * (rad**3))"
   ]
  },
  {
   "cell_type": "code",
   "execution_count": 379,
   "metadata": {},
   "outputs": [
    {
     "data": {
      "text/plain": [
       "33.49333333333333"
      ]
     },
     "execution_count": 379,
     "metadata": {},
     "output_type": "execute_result"
    }
   ],
   "source": [
    "# Check\n",
    "vol(2)"
   ]
  },
  {
   "cell_type": "markdown",
   "metadata": {},
   "source": [
    "___\n",
    "**Write a function that checks whether a number is in a given range (inclusive of high and low)**"
   ]
  },
  {
   "cell_type": "code",
   "execution_count": 114,
   "metadata": {
    "collapsed": true
   },
   "outputs": [],
   "source": [
    "# def convert_to_string(*args):\n",
    "#     for arg in args:\n",
    "#         arg = str(arg)\n",
    "#     return args\n",
    "\n",
    "# def ensure_int(fn):\n",
    "#     def wrapper(*args):\n",
    "#         for arg in args:\n",
    "#             arg = str(arg)\n",
    "#         return fn(*args)\n",
    "#     return wrapper\n",
    "\n",
    "\n",
    "# def ensure_int(fn):\n",
    "#     def wrapper(num):\n",
    "#         return fn(int(num))\n",
    "#     return wrapper\n",
    "\n",
    "#     def convert_to_string(**kwargs):\n",
    "#     for arg in kwargs:\n",
    "#         arg = str(arg)\n",
    "#     return kwargs\n",
    "\n",
    "# def ran_check(num,low,high):\n",
    "\n",
    "#     if low <= num <= high:\n",
    "#         # convert_to_string(num, low, high)\n",
    "#         # num = str(num)\n",
    "#         # low = str(low)\n",
    "#         # high = str(high)\n",
    "#         return (f\"{num} is in the range between {low} and {high}\")\n",
    "\n",
    "    # /// PREVIOUS ATTEMPTS\n",
    "    # return type(locals())\n",
    "    # str(locals())\n",
    "    # convert_to_string(saved_args)\n",
    "        # @ensure_int\n",
    "        # def true_statement(num,low,high):\n",
    "        # convert_to_string(num, low, high)\n",
    "    #     # num = str(num)\n",
    "    #     # low = str(low)\n",
    "    #     # high = str(high)\n",
    "\n",
    "def ran_check(num,low,high):\n",
    "\n",
    "    if low <= num <= high:\n",
    "        return (f\"{num} is in the range between {low} and {high}\")\n"
   ]
  },
  {
   "cell_type": "code",
   "execution_count": null,
   "metadata": {},
   "outputs": [],
   "source": [
    "### Provided answer (both correct)\n",
    "\n",
    "def ran_check(num,low,high):\n",
    "    #Check if num is between low and high (including low and high)\n",
    "    if num in range(low,high+1):\n",
    "        print('{} is in the range between {} and {}'.format(num,low,high))\n",
    "    else:\n",
    "        print('The number is outside the range.')"
   ]
  },
  {
   "cell_type": "code",
   "execution_count": 115,
   "metadata": {},
   "outputs": [
    {
     "data": {
      "text/plain": [
       "'5 is in the range between 2 and 7'"
      ]
     },
     "execution_count": 115,
     "metadata": {},
     "output_type": "execute_result"
    }
   ],
   "source": [
    "# Check\n",
    "ran_check(5,2,7)"
   ]
  },
  {
   "cell_type": "markdown",
   "metadata": {},
   "source": [
    "If you only wanted to return a boolean:"
   ]
  },
  {
   "cell_type": "code",
   "execution_count": 116,
   "metadata": {
    "collapsed": true
   },
   "outputs": [],
   "source": [
    "def ran_bool(num,low,high):\n",
    "    if low <= num <= high:\n",
    "        return True\n",
    "    else: \n",
    "        return False"
   ]
  },
  {
   "cell_type": "code",
   "execution_count": 118,
   "metadata": {},
   "outputs": [
    {
     "data": {
      "text/plain": [
       "True"
      ]
     },
     "execution_count": 118,
     "metadata": {},
     "output_type": "execute_result"
    }
   ],
   "source": [
    "ran_bool(3,1,10)"
   ]
  },
  {
   "cell_type": "markdown",
   "metadata": {},
   "source": [
    "____\n",
    "**Write a Python function that accepts a string and calculates the number of upper case letters and lower case letters.**\n",
    "\n",
    "    Sample String : 'Hello Mr. Rogers, how are you this fine Tuesday?'\n",
    "    Expected Output : \n",
    "    No. of Upper case characters : 4\n",
    "    No. of Lower case Characters : 33\n",
    "\n",
    "HINT: Two string methods that might prove useful: **.isupper()** and **.islower()**\n",
    "\n",
    "If you feel ambitious, explore the Collections module to solve this problem!"
   ]
  },
  {
   "cell_type": "code",
   "execution_count": 132,
   "metadata": {
    "collapsed": true
   },
   "outputs": [],
   "source": [
    "def up_low(s):\n",
    "    uppers = 0\n",
    "    lowers = 0\n",
    "    for i in s:\n",
    "        if i.isupper():\n",
    "            uppers += 1\n",
    "        elif i.islower(): \n",
    "            lowers += 1\n",
    "        else:\n",
    "            pass\n",
    "    totals = [uppers, lowers]\n",
    "    print(\"Number of letters:\\n\", \"Upper: \", uppers, \"\\n\", \"Lowers: \", lowers)\n",
    "\n",
    "    # print(f\"Original String: {s}\")\n",
    "    # print(f\"Lowercase count: {lowers}\")\n",
    "    # print(f\"Uppercase count: {uppers}\")\n",
    "\n",
    "    # *totals, sep=\"\\n\")\n",
    "    #dont use \\n with f-string; \n",
    "    # (ex.) print('Winners are:\\n{}'.format('\\n'.join(names)))\n",
    "    # (ex. 2) print('Winners are:', *names, sep='\\n')"
   ]
  },
  {
   "cell_type": "code",
   "execution_count": null,
   "metadata": {},
   "outputs": [],
   "source": [
    "%%time\n",
    "def upper_lower(s):\n",
    "    uppers = sum(1 for c in s if c.isupper())\n",
    "    lowers = sum(1 for c in s if c.islower())\n",
    "    print(uppers, lowers)"
   ]
  },
  {
   "cell_type": "code",
   "execution_count": null,
   "metadata": {},
   "outputs": [],
   "source": [
    "# using a dictionary\n",
    "\n",
    "def up_low2(s):\n",
    "    d = {'upper': 0, 'lower': 0}\n",
    "    for i in s:\n",
    "        if i.isupper():\n",
    "            d['upper'] += 1\n",
    "        elif i.islower(): \n",
    "            d['lower'] += 1\n",
    "        else:\n",
    "            pass\n",
    "\n",
    "    print(f\"Original String: {s}\")\n",
    "    print(f\"Lowercase count: {d['upper']}\")\n",
    "    print(f\"Uppercase count: {d['lower']}\")"
   ]
  },
  {
   "cell_type": "code",
   "execution_count": 382,
   "metadata": {},
   "outputs": [
    {
     "name": "stdout",
     "output_type": "stream",
     "text": [
      "Original String: Hello Mr. Rogers, how are you this fine Tuesday\n",
      "Lowercase count: 4\n",
      "Uppercase count: 33\n",
      "CPU times: total: 0 ns\n",
      "Wall time: 0 ns\n"
     ]
    }
   ],
   "source": [
    "%%time\n",
    "s = 'Hello Mr. Rogers, how are you this fine Tuesday'\n",
    "up_low2(s)"
   ]
  },
  {
   "cell_type": "markdown",
   "metadata": {},
   "source": [
    "____\n",
    "**Write a Python function that takes a list and returns a new list with unique elements of the first list.**\n",
    "\n",
    "    Sample List : [1,1,1,1,2,2,3,3,3,3,4,5]\n",
    "    Unique List : [1, 2, 3, 4, 5]"
   ]
  },
  {
   "cell_type": "code",
   "execution_count": 383,
   "metadata": {
    "collapsed": true
   },
   "outputs": [],
   "source": [
    "def unique_list(lst):\n",
    "    new_list = []\n",
    "    for i in lst:\n",
    "        if i in new_list:\n",
    "            pass\n",
    "        else:\n",
    "            new_list.append(i)\n",
    "    return new_list\n",
    "\n",
    "#more concise\n",
    "def unique_list2(lst):\n",
    "    return list(set(lst))\n",
    "    "
   ]
  },
  {
   "cell_type": "code",
   "execution_count": 384,
   "metadata": {},
   "outputs": [
    {
     "data": {
      "text/plain": [
       "[1, 2, 3, 4, 5]"
      ]
     },
     "execution_count": 384,
     "metadata": {},
     "output_type": "execute_result"
    }
   ],
   "source": [
    "unique_list2([1,1,1,1,2,2,3,3,3,3,4,5])"
   ]
  },
  {
   "cell_type": "markdown",
   "metadata": {},
   "source": [
    "____\n",
    "**Write a Python function to multiply all the numbers in a list.**\n",
    "\n",
    "    Sample List : [1, 2, 3, -4]\n",
    "    Expected Output : -24"
   ]
  },
  {
   "cell_type": "code",
   "execution_count": 385,
   "metadata": {
    "collapsed": true
   },
   "outputs": [],
   "source": [
    "from operator import index\n",
    "\n",
    "\n",
    "def multiply(numbers):  \n",
    "    x = 0\n",
    "    max = len(numbers) - 1\n",
    "    if 0 in numbers:\n",
    "        return \"Total: 0\"\n",
    "    else: \n",
    "        for x in range(0, max, 1):\n",
    "            if x == 0:\n",
    "                product = numbers[x] * numbers[x + 1]\n",
    "            else: \n",
    "                product = product * numbers[x + 1]\n",
    "        return product\n",
    "\n",
    "\n",
    "# CORRECTION VIA SOLUTIONS\n",
    "\n",
    "def multiply2(numbers):\n",
    "    total = 1\n",
    "    for num in numbers: \n",
    "        total = total * num\n",
    "    return total"
   ]
  },
  {
   "cell_type": "code",
   "execution_count": 304,
   "metadata": {},
   "outputs": [
    {
     "data": {
      "text/plain": [
       "-24"
      ]
     },
     "execution_count": 304,
     "metadata": {},
     "output_type": "execute_result"
    }
   ],
   "source": [
    "multiply([1,2,3,-4])"
   ]
  },
  {
   "cell_type": "markdown",
   "metadata": {},
   "source": [
    "____\n",
    "**Write a Python function that checks whether a word or phrase is palindrome or not.**\n",
    "\n",
    "Note: A palindrome is word, phrase, or sequence that reads the same backward as forward, e.g., madam,kayak,racecar, or a phrase \"nurses run\". Hint: You may want to check out the .replace() method in a string to help out with dealing with spaces. Also google search how to reverse a string in Python, there are some clever ways to do it with slicing notation."
   ]
  },
  {
   "cell_type": "code",
   "execution_count": 305,
   "metadata": {
    "collapsed": true
   },
   "outputs": [],
   "source": [
    "def palindrome(s):\n",
    "    reversed_s = s[::-1]\n",
    "    if s == reversed_s:\n",
    "        return True\n",
    "    else: \n",
    "        return False"
   ]
  },
  {
   "cell_type": "code",
   "execution_count": 395,
   "metadata": {},
   "outputs": [
    {
     "data": {
      "text/plain": [
       "True"
      ]
     },
     "execution_count": 395,
     "metadata": {},
     "output_type": "execute_result"
    }
   ],
   "source": [
    "palindrome('helleh helleh')"
   ]
  },
  {
   "cell_type": "code",
   "execution_count": 396,
   "metadata": {},
   "outputs": [
    {
     "data": {
      "text/plain": [
       "False"
      ]
     },
     "execution_count": 396,
     "metadata": {},
     "output_type": "execute_result"
    }
   ],
   "source": [
    "palindrome('hello')"
   ]
  },
  {
   "cell_type": "code",
   "execution_count": 390,
   "metadata": {},
   "outputs": [
    {
     "name": "stdout",
     "output_type": "stream",
     "text": [
      "item 1 (firstword) is not a palindrome\n",
      "item 2 (olo) is a palindrome\n",
      "item 3 (helleh) is a palindrome\n"
     ]
    },
    {
     "data": {
      "text/plain": [
       "'end of list'"
      ]
     },
     "execution_count": 390,
     "metadata": {},
     "output_type": "execute_result"
    }
   ],
   "source": [
    "# Check a list for palindromes\n",
    "\n",
    "def palindrome_checker(s):\n",
    "    new_list = []\n",
    "    if type(s) != list:\n",
    "        return \"Not a list\"\n",
    "    else: \n",
    "        for item in s:\n",
    "            item = item[::-1]\n",
    "            new_list.append(item)\n",
    "    i = 0\n",
    "    while i < len(s):\n",
    "        if s[i] == new_list[i]:\n",
    "            print(f'item {i + 1} ({s[i]}) is a palindrome')\n",
    "        else: \n",
    "            print(f'item {i + 1} ({s[i]}) is not a palindrome')\n",
    "        i+= 1\n",
    "    else: \n",
    "        return \"end of list\"\n",
    "        \n",
    "palindrome_checker([\"firstword\", \"olo\", \"helleh\"])"
   ]
  },
  {
   "cell_type": "markdown",
   "metadata": {},
   "source": [
    "____\n",
    "#### Hard:\n",
    "\n",
    "**Write a Python function to check whether a string is pangram or not. (Assume the string passed in does not have any punctuation)**\n",
    "\n",
    "    Note : Pangrams are words or sentences containing every letter of the alphabet at least once.\n",
    "    For example : \"The quick brown fox jumps over the lazy dog\"\n",
    "\n",
    "Hint: You may want to use .replace() method to get rid of spaces.\n",
    "\n",
    "Hint: Look at the [string module](https://stackoverflow.com/questions/16060899/alphabet-range-in-python)\n",
    "\n",
    "Hint: In case you want to use [set comparisons](https://medium.com/better-programming/a-visual-guide-to-set-comparisons-in-python-6ab7edb9ec41)"
   ]
  },
  {
   "cell_type": "code",
   "execution_count": 393,
   "metadata": {
    "collapsed": true
   },
   "outputs": [],
   "source": [
    "import string\n",
    "import re\n",
    "\n",
    "# from regex import Regex\n",
    "\n",
    "# def ispangram(str1, alphabet=string.ascii_lowercase):\n",
    "#     pass\n",
    "\n",
    "def ispangram(str1):\n",
    "    alphabet = sorted(list(string.ascii_lowercase))\n",
    "    str1 = str1.lower()\n",
    "    str1 = re.sub(\"[^a-z]\", \"\", str1)\n",
    "    str1 = sorted(list(set(str1)))\n",
    "    \n",
    "#    str1 = rgx.Replace(str1, \"\")\n",
    "\n",
    "    \n",
    "    print(alphabet)\n",
    "    print(str1)\n",
    "\n",
    "    if alphabet == str1:\n",
    "        return \"it's a pangram\"\n",
    "    else:\n",
    "        return \"not a pangram\"\n",
    "\n",
    "     \n",
    "# ascii lowercase to list\n",
    "# my string to list(set(mylist))\n",
    "# sort list alphabetically?\n",
    "# compare lists; if lista != listb, return false\n"
   ]
  },
  {
   "cell_type": "code",
   "execution_count": 394,
   "metadata": {},
   "outputs": [
    {
     "name": "stdout",
     "output_type": "stream",
     "text": [
      "['a', 'b', 'c', 'd', 'e', 'f', 'g', 'h', 'i', 'j', 'k', 'l', 'm', 'n', 'o', 'p', 'q', 'r', 's', 't', 'u', 'v', 'w', 'x', 'y', 'z']\n",
      "['a', 'b', 'c']\n"
     ]
    },
    {
     "data": {
      "text/plain": [
       "'not a pangram'"
      ]
     },
     "execution_count": 394,
     "metadata": {},
     "output_type": "execute_result"
    }
   ],
   "source": [
    "ispangram(\"acCb\")"
   ]
  },
  {
   "cell_type": "code",
   "execution_count": 391,
   "metadata": {},
   "outputs": [
    {
     "name": "stdout",
     "output_type": "stream",
     "text": [
      "['a', 'b', 'c', 'd', 'e', 'f', 'g', 'h', 'i', 'j', 'k', 'l', 'm', 'n', 'o', 'p', 'q', 'r', 's', 't', 'u', 'v', 'w', 'x', 'y', 'z']\n",
      "['a', 'b', 'c', 'd', 'e', 'f', 'g', 'h', 'i', 'j', 'k', 'l', 'm', 'n', 'o', 'p', 'q', 'r', 's', 't', 'u', 'v', 'w', 'x', 'y', 'z']\n"
     ]
    },
    {
     "data": {
      "text/plain": [
       "\"it's a pangram\""
      ]
     },
     "execution_count": 391,
     "metadata": {},
     "output_type": "execute_result"
    }
   ],
   "source": [
    "ispangram(\"The quick BBrown fox jumps over the lazy dog!!232\")"
   ]
  },
  {
   "cell_type": "code",
   "execution_count": 376,
   "metadata": {},
   "outputs": [
    {
     "data": {
      "text/plain": [
       "'abcdefghijklmnopqrstuvwxyz'"
      ]
     },
     "execution_count": 376,
     "metadata": {},
     "output_type": "execute_result"
    }
   ],
   "source": [
    "string.ascii_lowercase"
   ]
  },
  {
   "cell_type": "markdown",
   "metadata": {
    "collapsed": true
   },
   "source": [
    "#### Great Job!"
   ]
  }
 ],
 "metadata": {
  "kernelspec": {
   "display_name": "Python 3.9.12 ('base')",
   "language": "python",
   "name": "python3"
  },
  "language_info": {
   "codemirror_mode": {
    "name": "ipython",
    "version": 3
   },
   "file_extension": ".py",
   "mimetype": "text/x-python",
   "name": "python",
   "nbconvert_exporter": "python",
   "pygments_lexer": "ipython3",
   "version": "3.9.12"
  },
  "vscode": {
   "interpreter": {
    "hash": "4c077c30561241be03c41ae9383d0790cec0a69af14a8824d4f85b0977298f57"
   }
  }
 },
 "nbformat": 4,
 "nbformat_minor": 1
}
